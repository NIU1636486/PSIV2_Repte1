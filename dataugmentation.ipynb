{
 "cells": [
  {
   "cell_type": "markdown",
   "metadata": {},
   "source": [
    "### DATA AUGMENTANTION BASES DE DADES\n",
    "\n",
    "Amb data augmentation s'incrementa la diversitat del teu training aplicant transformacions realistiques\n",
    "- hem de rotar els caracters. Pero tenir pensat que ho veiem des de la dreta\n",
    "- separar entre lletres i numeros\n",
    "- millor treballar amb aquesta base de dades que en les nostres imatges pq sino ens quedarem sense imatges per fer train i test"
   ]
  },
  {
   "cell_type": "code",
   "execution_count": 11,
   "metadata": {},
   "outputs": [],
   "source": [
    "import os\n",
    "from PIL import Image\n",
    "\n",
    "# Funció per rotar tenint en compte la perspectiva de la dreta\n",
    "def rotate_dreta(image_path, angle, output_path):\n",
    "    image = Image.open(image_path)\n",
    "    # Rotar\n",
    "    rotated_image = image.rotate(-angle, resample=Image.Resampling.BICUBIC, expand=True)  # angle negatiu per perspectiva dreta\n",
    "    # Guardar-la\n",
    "    rotated_image.save(output_path)\n",
    "\n",
    "#aplicar funcio rotar dreta a totes les imatges\n",
    "def apply_rotation(input_path, output_path, angle):\n",
    "    image_files = [f for f in os.listdir(input_path) if f.endswith('.png')]\n",
    "    os.makedirs(output_path, exist_ok=True)  #carpeta exosteix\n",
    "    for image_file in image_files:\n",
    "        img_path = os.path.join(input_path, image_file)\n",
    "        output_img_path = os.path.join(output_path, f'rotated20_{image_file}')\n",
    "        # Rotar imatge i guardar-la\n",
    "        rotate_dreta(img_path, angle, output_img_path)\n",
    "\n",
    "# carpetes entrada\n",
    "input_path_nums = \"/Users/carlotacortes/Desktop/numbers\"\n",
    "input_path_lletres = \"/Users/carlotacortes/Desktop/letters\"\n",
    "\n",
    "#carpetes sortida\n",
    "output_path_nums = \"/Users/carlotacortes/Desktop/rotated_numbers\"\n",
    "output_path_lletres = \"/Users/carlotacortes/Desktop/rotated_letters\"\n",
    "\n",
    "# Angle de rotació\n",
    "angle = 20\n",
    "#canviar angle i nom en output img path\n",
    "\n",
    "# cridar funcio\n",
    "apply_rotation(input_path_nums, output_path_nums, angle)\n",
    "apply_rotation(input_path_lletres, output_path_lletres, angle)\n"
   ]
  }
 ],
 "metadata": {
  "kernelspec": {
   "display_name": "Python 3",
   "language": "python",
   "name": "python3"
  },
  "language_info": {
   "codemirror_mode": {
    "name": "ipython",
    "version": 3
   },
   "file_extension": ".py",
   "mimetype": "text/x-python",
   "name": "python",
   "nbconvert_exporter": "python",
   "pygments_lexer": "ipython3",
   "version": "3.8.9"
  }
 },
 "nbformat": 4,
 "nbformat_minor": 2
}
